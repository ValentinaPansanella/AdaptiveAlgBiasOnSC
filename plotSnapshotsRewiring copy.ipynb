{
 "cells": [
  {
   "cell_type": "code",
   "execution_count": null,
   "metadata": {},
   "outputs": [],
   "source": [
    "%matplotlib inline\n",
    "import matplotlib.pyplot as plt\n",
    "import seaborn as sns\n",
    "import os\n",
    "import networkx as nx\n",
    "import csv\n",
    "from tqdm import tqdm"
   ]
  },
  {
   "cell_type": "code",
   "execution_count": null,
   "metadata": {},
   "outputs": [],
   "source": [
    "def nclusters(data, threshold):\n",
    "    data = [float(el) for el in data]\n",
    "    data = sorted(data)\n",
    "    start = data[0]\n",
    "    max_val = start + threshold\n",
    "    c = (start, max_val)\n",
    "    cluster = dict()\n",
    "    for i in data:\n",
    "        if i <= max_val:\n",
    "            if c in cluster.keys():\n",
    "                cluster[c] += 1\n",
    "            else:\n",
    "                cluster[c] = 1\n",
    "        else:\n",
    "            max_val = i + threshold\n",
    "            c = (i, max_val)\n",
    "            cluster[c] = 1\n",
    "    #ora ho il dizionario con i cluster di una run\n",
    "    C_num = len(data)**2\n",
    "    C_den = 0\n",
    "    for k in cluster.keys():\n",
    "        C_den += cluster[k]*cluster[k]\n",
    "    C = C_num / C_den\n",
    "    return C"
   ]
  },
  {
   "cell_type": "code",
   "execution_count": null,
   "metadata": {},
   "outputs": [],
   "source": [
    "def read_snapshot(filename):\n",
    "    G = nx.Graph()\n",
    "    with open(filename, 'r') as edgelistfile:\n",
    "        data = csv.reader(edgelistfile)\n",
    "        for row in data:\n",
    "            G.add_node(int(row[0])) #superhero in first column\n",
    "            G.add_node(int(row[1])) #superhero in second column\n",
    "            G.add_edge(int(row[0]), int(row[1]), weight = 1)\n",
    "        return G\n",
    "\n",
    "def read_opinions(filename):\n",
    "    colors = []\n",
    "    with open(filename) as infile:\n",
    "        opinions = infile.readlines()\n",
    "    opinions = [float(op.strip()) for op in opinions]\n",
    "    return opinions\n",
    "    \n",
    "\n",
    "def add_opinions(graph, opinions):\n",
    "    for node in graph.nodes:\n",
    "        graph.nodes[node]['opinion'] = opinions[node]\n",
    "\n",
    "    return graph\n",
    "\n",
    "def compute_ncc(graph):\n",
    "    return nx.number_connected_components(graph)\n"
   ]
  },
  {
   "cell_type": "code",
   "execution_count": null,
   "metadata": {},
   "outputs": [],
   "source": [
    "print(\"yay\")"
   ]
  },
  {
   "cell_type": "code",
   "execution_count": null,
   "metadata": {},
   "outputs": [],
   "source": [
    "import sys\n",
    "sys.path.append(\"/home/pansanella/mydata/GitHub/local_packages/\")\n",
    "sys.path.append(\"/data1/users/pansanella/mydata/GitHub/local_packages/\")\n",
    "sys.path.append(\"/data1/users/pansanella/mydata/GitHub/local_packages/netdspatch_local/\")\n",
    "import networkx as nx\n",
    "import ndlib_local.ndlib.models.ModelConfig as mc\n",
    "import ndlib_local.ndlib.models.opinions as op\n",
    "import warnings\n",
    "import tqdm\n",
    "import os\n",
    "import numpy as np\n",
    "from matplotlib.offsetbox import AnchoredText\n",
    "\n",
    "warnings.filterwarnings(\"ignore\")\n",
    "\n",
    "\n",
    "def save_snapshot(model, its, modelname, name, nit):\n",
    "    if not os.path.exists(f'snapshotGraphs/{modelname}/{name}/'):\n",
    "        os.mkdir(f'snapshotGraphs/{modelname}/{name}/')\n",
    "\n",
    "    fig, ax = plt.subplots(1, 1, num=1, figsize=(10, 8))\n",
    "    G = model.graph.graph                    \n",
    "    opinions = list(its['status'].values()) \n",
    "    pos = nx.spring_layout(G, seed=1)  # positions for all nodes\n",
    "    nx.draw(G, pos, node_color=opinions, cmap=plt.cm.RdBu_r, node_size=300.0, vmin=0.0, vmax=1.0, width=0.1, alpha=1.0, ax = ax)\n",
    "    plt.tight_layout()\n",
    "    plt.savefig(f\"snapshotGraphs/{modelname}/{name}/{name}_network {nit}.png\")\n",
    "    plt.close()\n",
    "\n",
    "    sns.set_style(\"ticks\")\n",
    "    fig, ax = plt.subplots(1, 1, num=1, figsize=(10, 6))\n",
    "    sns.despine()\n",
    "    degrees = [G.degree(n) for n in G.nodes()]\n",
    "    sns.histplot(x=degrees, kde=True)\n",
    "    ax.grid(True)\n",
    "    ax.tick_params(direction='out', length=10, width=3, colors = \"black\", labelsize=30, grid_color = \"black\", grid_alpha = 0.1)\n",
    "    ax.set_ylabel(\"# Nodes\", size=20)\n",
    "    ax.set_xlabel(\"Degree\", size=20)\n",
    "    plt.savefig(f\"snapshotGraphs/{modelname}/{name}/{name}_degreedist {nit}.png\")\n",
    "    plt.close()\n",
    "    \n",
    "    nx.write_edgelist(G, f\"snapshotGraphs/{modelname}/{name}/{name}_edgelist {nit}.csv\", delimiter=\",\")\n",
    "\n",
    "    with open(f\"snapshotGraphs/{modelname}/{name}/{name}_opinions {nit}.txt\", \"w\") as opfile:\n",
    "        for op in list(its['status'].values()):\n",
    "            opfile.write(str(op)+\"\\n\")\n",
    "    \n",
    "    C = nclusters(opinions, 0.001)\n",
    "    \n",
    "    if C == 1.0:\n",
    "        return 1\n",
    "\n",
    "\n",
    "def steady_state_coevolving(model, name, nsteady=1000, max_iterations=10, sensibility = 0.00001, node_status=True, progress_bar=True):\n",
    "    system_status = []\n",
    "    steady_it = 0\n",
    "    for it in tqdm.tqdm(range(0, max_iterations), disable=not progress_bar):\n",
    "        oldgraph = model.graph.graph.copy()\n",
    "        its = model.iteration(node_status)\n",
    "        save_snapshots_for = [0, 1, 2, 3, 4, 5, 6, 7, 8, 9, 10, 20, 50, 100, 500, 1000, 2000, 5000, 10000, 100000, 500000, max_it]\n",
    "        if it > 0:\n",
    "            if np.all((its['max_diff'] < sensibility)):\n",
    "                steady_it += 1\n",
    "            else:\n",
    "                steady_it = 0\n",
    "        system_status.append(its)\n",
    "        if oldgraph.edges() != model.graph.graph.edges() : steady_it = 0 \n",
    "        if steady_it == nsteady:\n",
    "            return system_status[:-nsteady]\n",
    "        if it in save_snapshots_for:\n",
    "            if save_snapshot(model, its, modelname, name, it) == 1:\n",
    "                return system_status\n",
    "    return system_status\n"
   ]
  },
  {
   "cell_type": "code",
   "execution_count": null,
   "metadata": {},
   "outputs": [],
   "source": [
    "modelname = \"rewiring\"\n",
    "n = 200\n",
    "max_it = 1000000\n",
    "initial_status = np.random.random_sample(n)\n",
    "graphname = 'er'\n",
    "p = 0.1\n",
    "i = 1\n",
    "graph = nx.erdos_renyi_graph(n, p, seed = i)\n",
    "while nx.number_connected_components(graph) > 1:\n",
    "    i+=1\n",
    "    graph = nx.erdos_renyi_graph(n, p, seed = i)"
   ]
  },
  {
   "cell_type": "code",
   "execution_count": null,
   "metadata": {},
   "outputs": [],
   "source": [
    "for pr in [0.0, 0.5, 1.0]:\n",
    "    for e in [0.2]:\n",
    "        for g in [0.0, 0.5, 1.0, 1.5]:\n",
    "            name = f\"{modelname} {graphname}{p} n{n} pr{pr} e{e} g{g} mi{max_it}\"\n",
    "            print(name)\n",
    "            if modelname == \"rewiring\":\n",
    "                model = op.AdaptiveAlgorithmicBiasModel(graph)\n",
    "            else:\n",
    "                model = op.AdaptivePeerPressureAlgorithmicBiasModel(graph)\n",
    "            config = mc.Configuration()\n",
    "            config.add_model_parameter(\"epsilon\", e)\n",
    "            config.add_model_parameter(\"gamma\", g)\n",
    "            config.add_model_parameter(\"p\", pr)\n",
    "            model.set_initial_status(config, opinions = initial_status)\n",
    "            status = steady_state_coevolving(model, name, max_iterations=max_it+1, node_status=True, progress_bar=True)                "
   ]
  },
  {
   "cell_type": "code",
   "execution_count": 6,
   "metadata": {},
   "outputs": [
    {
     "name": "stdout",
     "output_type": "stream",
     "text": [
      "triangles rewiring er0.1 n200 pr0.0 e0.2 g0.0 mi1000000\n"
     ]
    },
    {
     "name": "stderr",
     "output_type": "stream",
     "text": [
      "  0%|          | 20/1000001 [00:04<61:27:43,  4.52it/s]\n"
     ]
    },
    {
     "name": "stdout",
     "output_type": "stream",
     "text": [
      "triangles rewiring er0.1 n200 pr0.0 e0.2 g0.5 mi1000000\n"
     ]
    },
    {
     "name": "stderr",
     "output_type": "stream",
     "text": [
      "  0%|          | 100/1000001 [00:06<16:55:55, 16.40it/s]\n"
     ]
    },
    {
     "name": "stdout",
     "output_type": "stream",
     "text": [
      "triangles rewiring er0.1 n200 pr0.0 e0.2 g1.0 mi1000000\n"
     ]
    },
    {
     "name": "stderr",
     "output_type": "stream",
     "text": [
      "  5%|▌         | 53778/1000001 [13:13<3:43:54, 70.43it/s]"
     ]
    }
   ],
   "source": [
    "modelname = \"triangles rewiring\"\n",
    "n = 200\n",
    "max_it = 1000000\n",
    "initial_status = np.random.random_sample(n)\n",
    "graphname = 'er'\n",
    "p = 0.1\n",
    "i = 1\n",
    "graph = nx.erdos_renyi_graph(n, p, seed = i)\n",
    "while nx.number_connected_components(graph) > 1:\n",
    "    i+=1\n",
    "    graph = nx.erdos_renyi_graph(n, p, seed = i)\n",
    "        \n",
    "for pr in [0.0, 0.5, 1.0]:\n",
    "    for e in [0.2]:\n",
    "        for g in [0.0, 0.5, 1.0, 1.5]:\n",
    "            name = f\"{modelname} {graphname}{p} n{n} pr{pr} e{e} g{g} mi{max_it}\"\n",
    "            print(name)\n",
    "            if modelname == \"rewiring\":\n",
    "                model = op.AdaptiveAlgorithmicBiasModel(graph)\n",
    "            else:\n",
    "                model = op.AdaptivePeerPressureAlgorithmicBiasModel(graph)\n",
    "            config = mc.Configuration()\n",
    "            config.add_model_parameter(\"epsilon\", e)\n",
    "            config.add_model_parameter(\"gamma\", g)\n",
    "            config.add_model_parameter(\"p\", pr)\n",
    "            model.set_initial_status(config, opinions = initial_status)\n",
    "            status = steady_state_coevolving(model, name, max_iterations=max_it+1, node_status=True, progress_bar=True)           "
   ]
  },
  {
   "cell_type": "code",
   "execution_count": null,
   "metadata": {},
   "outputs": [],
   "source": []
  },
  {
   "cell_type": "code",
   "execution_count": null,
   "metadata": {},
   "outputs": [],
   "source": [
    "# from matplotlib import cm\n",
    "# import numpy as np\n",
    "# from matplotlib.colors import ListedColormap,LinearSegmentedColormap\n",
    "# # top = cm.get_cmap('Reds_r', 128) # r means reversed version\n",
    "# # center1 = cm.get_cmap('Greens', 128)\n",
    "# # center2 = cm.get_cmap('Greens_r', 128)\n",
    "# # bottom = cm.get_cmap('Blues', 128)# combine it all\n",
    "# # newcolors = np.vstack((top(np.linspace(0, 1, 128)),\n",
    "# #                         center1(np.linspace(0,1,128)),\n",
    "# #                         center2(np.linspace(0,1,128)),\n",
    "# #                        bottom(np.linspace(0, 1, 128))))# create a new colormaps with a name of OrangeBlue\n",
    "# # mia = ListedColormap(newcolors, name='mia')\n",
    "\n",
    "# # Red, Green, Blue\n",
    "# # N = 256\n",
    "# # vals = np.ones((N, 4))\n",
    "# # # Red stays constant until middle of colormap all other channels increas\n",
    "# # # to result in white\n",
    "# # # from middle of colormap we decrease to 0, 0, 255 which is blue\n",
    "# # vals[:, 0] = np.concatenate((np.linspace(1, 1, N//2), np.linspace(1, 0, N//2)), axis=None)\n",
    "# # vals[:, 1] = np.concatenate((np.linspace(0, 1, N//2), np.linspace(1, 0, N//2)), axis=None)\n",
    "# # vals[:, 2] = np.concatenate((np.linspace(0, 1, N//2), np.linspace(1, 1, N//2)), axis=None)\n",
    "# # mia = ListedColormap(vals)\n",
    "\n",
    "# colors = [(1, 0, 0), (0, 1, 0), (0, 0, 1)]  # R -> G -> B\n",
    "# n_bins = 100  # Discretizes the interpolation into bins\n",
    "# cmap_name = 'mia'\n",
    "# mia = LinearSegmentedColormap.from_list(cmap_name, colors, N=n_bins)"
   ]
  },
  {
   "cell_type": "code",
   "execution_count": null,
   "metadata": {},
   "outputs": [],
   "source": [
    "infos = []\n",
    "models = [\"rewiring\"]\n",
    "graphs = [\"er\",\"ba\"]\n",
    "pr = 0.5\n",
    "epss = [0.2]\n",
    "gams = [0.5]\n",
    "mi = 100000\n",
    "for model in models:\n",
    "    for graph in graphs:\n",
    "        if graph == \"er\":\n",
    "            p = 0.1\n",
    "        else:\n",
    "            p = 5\n",
    "        for eps in epss:\n",
    "            for gam in gams:    \n",
    "                dirname = f\"snapshotGraphs/{model}/{model} {graph}{p} pr{pr} e{eps} g{gam} mi{mi}/\"\n",
    "                for nit in range(100000):\n",
    "                    try:\n",
    "                        filename = f\"edgelist {nit}.csv\"\n",
    "                        opfile = 'opinions '+str(nit)+'.txt'\n",
    "                        opinions, colors = read_opinions(os.path.join(dirname, opfile))\n",
    "                        print(\"avg opinion is \", sum(opinions)/len(opinions))\n",
    "                        C = nclusters(opinions, 0.01)\n",
    "                        print(\"avg_ncluster is \", C)\n",
    "                        g = read_snapshot(os.path.join(dirname, filename))\n",
    "                        pos = nx.spring_layout(g, seed=1)  # positions for all nodes\n",
    "                        g = add_opinions(g, opinions)\n",
    "                        nx.draw(g, pos, node_color=opinions, cmap=plt.cm.RdBu, node_size=60.0, vmin=0.0, vmax=1.0, width=0.1, alpha=1.0)\n",
    "                        plt.title(f\"{model}_{graph}_{pr}_{eps}_{gam}_{nit}\")\n",
    "                        sm = plt.cm.ScalarMappable(cmap=plt.cm.RdBu, norm=plt.Normalize(vmin = 0, vmax=1))\n",
    "                        sm._A = []\n",
    "                        cbar = plt.colorbar(sm)\n",
    "                        for t in cbar.ax.get_yticklabels():\n",
    "                            t.set_fontsize(10)\n",
    "                        cbar.outline.set_visible(False)\n",
    "                        cbar.ax.tick_params()\n",
    "                        plt.show()\n",
    "                        plt.close()\n",
    "                    except:\n",
    "                        \n",
    "                        continue\n",
    "                    # nc = compute_ncc(g)\n",
    "                    # d['nit'] = nit\n",
    "                    # d['nc'] = nc\n",
    "                    # infos.append(d)\n",
    "                else:\n",
    "                    continue\n",
    "# import pandas as pd\n",
    "# results = pd.DataFrame(infos)\n",
    "# results.to_csv(f\"connected_components_{model}.csv\")\n",
    "# %matplotlib inline\n",
    "# for eps in [0.2, 0.3, 0.4]:\n",
    "#     for gam in [0.0, 0.5, 1.0, 1.5]:\n",
    "#         data = results[results['graph']=='er']\n",
    "#         data2 = data[data['eps']==eps]\n",
    "#         data3 = data2[data2['gam'] == gam]\n",
    "#         sns.lineplot(data=data, x=\"nit\", y=\"nc\", marker = \"s\")\n",
    "#         plt.title('_'.join([model, str(eps), str(gam)]))\n",
    "#         plt.show()"
   ]
  },
  {
   "cell_type": "code",
   "execution_count": null,
   "metadata": {},
   "outputs": [],
   "source": [
    "infos = []\n",
    "models = [\"triangles rewiring\"]\n",
    "graphs = [\"er\", \"ba\"]\n",
    "pr = 0.5\n",
    "epss = [0.2, 0.3, 0.4]\n",
    "gams = [0.0, 0.5, 1.0, 1.5]\n",
    "mi = 100000\n",
    "for model in models:\n",
    "    for graph in graphs:\n",
    "        if graph == \"er\":\n",
    "            p = 0.1\n",
    "        else:\n",
    "            p = 5\n",
    "        for eps in epss:\n",
    "            for gam in gams:    \n",
    "                dirname = f\"snapshotGraphs/{model}/{model} {graph}{p} pr{pr} e{eps} g{gam} mi{mi}/\"\n",
    "                for filename in os.listdir(f\"{dirname}/\"):\n",
    "                    if filename.startswith('edgelist'):\n",
    "                        d = {'model':model, 'graph':graph, 'p':p, 'pr':pr, 'eps':eps, 'gam':gam, 'mi':mi}\n",
    "                        nit = int((filename.split(' ')[1]).split('.')[0])\n",
    "                        opfile = 'opinions '+str(nit)+'.txt'\n",
    "                        opinions, colors = read_opinions(os.path.join(dirname, opfile))\n",
    "                        g = read_snapshot(os.path.join(dirname, filename))\n",
    "                        g = add_opinions(g, opinions)\n",
    "                        nc = compute_ncc(g)\n",
    "                        d['nit'] = nit\n",
    "                        d['nc'] = nc\n",
    "                        infos.append(d)\n",
    "                    else:\n",
    "                        continue\n",
    "import pandas as pd\n",
    "results = pd.DataFrame(infos)\n",
    "results.to_csv(f\"connected_components_{model}.csv\")\n",
    "\n",
    "%matplotlib inline\n",
    "for eps in [0.2, 0.3, 0.4]:\n",
    "    for gam in [0.0, 0.5, 1.0, 1.5]:\n",
    "        data = results[results['graph']=='er']\n",
    "        data2 = data[data['eps']==eps]\n",
    "        data3 = data2[data2['gam'] == gam]\n",
    "        sns.lineplot(data=data, x=\"nit\", y=\"nc\", marker = \"s\")\n",
    "        plt.title('_'.join([model, str(eps), str(gam)]))\n",
    "        plt.show()"
   ]
  },
  {
   "cell_type": "code",
   "execution_count": null,
   "metadata": {},
   "outputs": [],
   "source": [
    "models = [\"rewiring\"]\n",
    "graphs = [\"er\", \"ba\"]\n",
    "pr = 0.5\n",
    "epss = [0.2, 0.3, 0.4]\n",
    "gams = [0.0, 0.5, 1.0, 1.5]\n",
    "mi = 100000\n",
    "\n",
    "%matplotlib inline\n",
    "for model in models:\n",
    "    for graph in graphs:\n",
    "        if graph == \"er\":\n",
    "            p = 0.1\n",
    "        else:\n",
    "            p = 5\n",
    "        for eps in epss:\n",
    "            for gam in gams:    \n",
    "                dirname = f\"snapshotGraphs/{model}/{model} {graph}{p} pr{pr} e{eps} g{gam} mi{mi}/\"\n",
    "                for nit in range(100000):\n",
    "                    try:\n",
    "                        fig, axes = plt.subplots(nrows=3, ncols=2, figsize=(15, 7), dpi=600)\n",
    "                        filename = f\"edgelist {nit}.csv\"\n",
    "                        opfile = 'opinions '+str(nit)+'.txt'\n",
    "                        opinions, colors = read_opinions(os.path.join(dirname, opfile))\n",
    "                        print(\"avg opinion is \", sum(opinions)/len(opinions))\n",
    "                        C = nclusters(opinions, 0.01)\n",
    "                        print(\"avg_ncluster is \", C)\n",
    "                        g = read_snapshot(os.path.join(dirname, filename))\n",
    "                        pos = nx.spring_layout(g, seed=1)  # positions for all nodes\n",
    "                        g = add_opinions(g, opinions)\n",
    "                        nx.draw(g, pos, node_color=opinions, cmap=plt.cm.RdBu, node_size=60.0, vmin=0.0, vmax=1.0, width=0.1, alpha=1.0, ax=axes[0])\n",
    "                        plot_degree_dist(g, ax=axes[1])\n",
    "                        plt.sup_title(f\"{model}_{graph}_{pr}_{eps}_{gam}_{nit}\")\n",
    "                        plt.show()\n",
    "                    except:\n",
    "                        \n",
    "                        continue\n",
    "                    # nc = compute_ncc(g)\n",
    "                    # d['nit'] = nit\n",
    "                    # d['nc'] = nc\n",
    "                    # infos.append(d)\n",
    "                else:\n",
    "                    continue\n",
    "\n"
   ]
  },
  {
   "cell_type": "code",
   "execution_count": null,
   "metadata": {},
   "outputs": [],
   "source": []
  },
  {
   "cell_type": "code",
   "execution_count": null,
   "metadata": {},
   "outputs": [],
   "source": []
  },
  {
   "cell_type": "code",
   "execution_count": null,
   "metadata": {},
   "outputs": [],
   "source": []
  },
  {
   "cell_type": "code",
   "execution_count": null,
   "metadata": {},
   "outputs": [],
   "source": []
  },
  {
   "cell_type": "code",
   "execution_count": null,
   "metadata": {},
   "outputs": [],
   "source": []
  },
  {
   "cell_type": "code",
   "execution_count": null,
   "metadata": {},
   "outputs": [],
   "source": []
  },
  {
   "cell_type": "code",
   "execution_count": null,
   "metadata": {},
   "outputs": [],
   "source": []
  },
  {
   "cell_type": "code",
   "execution_count": null,
   "metadata": {},
   "outputs": [],
   "source": []
  },
  {
   "cell_type": "code",
   "execution_count": null,
   "metadata": {},
   "outputs": [],
   "source": []
  },
  {
   "cell_type": "code",
   "execution_count": null,
   "metadata": {},
   "outputs": [],
   "source": []
  },
  {
   "cell_type": "code",
   "execution_count": null,
   "metadata": {},
   "outputs": [],
   "source": []
  },
  {
   "cell_type": "code",
   "execution_count": null,
   "metadata": {},
   "outputs": [],
   "source": []
  },
  {
   "cell_type": "code",
   "execution_count": null,
   "metadata": {},
   "outputs": [],
   "source": []
  },
  {
   "cell_type": "code",
   "execution_count": null,
   "metadata": {},
   "outputs": [],
   "source": []
  },
  {
   "cell_type": "code",
   "execution_count": null,
   "metadata": {},
   "outputs": [],
   "source": []
  },
  {
   "cell_type": "code",
   "execution_count": null,
   "metadata": {},
   "outputs": [],
   "source": []
  },
  {
   "cell_type": "code",
   "execution_count": null,
   "metadata": {},
   "outputs": [],
   "source": []
  },
  {
   "cell_type": "code",
   "execution_count": null,
   "metadata": {},
   "outputs": [],
   "source": []
  },
  {
   "cell_type": "code",
   "execution_count": null,
   "metadata": {},
   "outputs": [],
   "source": []
  },
  {
   "cell_type": "code",
   "execution_count": null,
   "metadata": {},
   "outputs": [],
   "source": []
  },
  {
   "cell_type": "code",
   "execution_count": null,
   "metadata": {},
   "outputs": [],
   "source": []
  },
  {
   "cell_type": "code",
   "execution_count": null,
   "metadata": {},
   "outputs": [],
   "source": []
  },
  {
   "cell_type": "code",
   "execution_count": null,
   "metadata": {},
   "outputs": [],
   "source": []
  },
  {
   "cell_type": "code",
   "execution_count": null,
   "metadata": {},
   "outputs": [],
   "source": []
  },
  {
   "cell_type": "code",
   "execution_count": null,
   "metadata": {},
   "outputs": [],
   "source": []
  },
  {
   "cell_type": "code",
   "execution_count": null,
   "metadata": {},
   "outputs": [],
   "source": []
  },
  {
   "cell_type": "code",
   "execution_count": null,
   "metadata": {},
   "outputs": [],
   "source": []
  },
  {
   "cell_type": "code",
   "execution_count": null,
   "metadata": {},
   "outputs": [],
   "source": []
  },
  {
   "cell_type": "code",
   "execution_count": null,
   "metadata": {},
   "outputs": [],
   "source": []
  },
  {
   "cell_type": "code",
   "execution_count": null,
   "metadata": {},
   "outputs": [],
   "source": []
  },
  {
   "cell_type": "code",
   "execution_count": null,
   "metadata": {},
   "outputs": [],
   "source": []
  }
 ],
 "metadata": {
  "kernelspec": {
   "display_name": "Python 3.9.12 ('base')",
   "language": "python",
   "name": "python3"
  },
  "language_info": {
   "codemirror_mode": {
    "name": "ipython",
    "version": 3
   },
   "file_extension": ".py",
   "mimetype": "text/x-python",
   "name": "python",
   "nbconvert_exporter": "python",
   "pygments_lexer": "ipython3",
   "version": "3.9.12"
  },
  "vscode": {
   "interpreter": {
    "hash": "895ffc56b6eff623d772c414b46f8111564696d5bee6faf9cdbf1181314a9666"
   }
  }
 },
 "nbformat": 4,
 "nbformat_minor": 2
}
