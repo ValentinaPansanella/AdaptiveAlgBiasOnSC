{
 "cells": [
  {
   "cell_type": "code",
   "execution_count": 1,
   "metadata": {},
   "outputs": [],
   "source": [
    "%matplotlib inline\n",
    "import matplotlib.pyplot as plt\n",
    "import seaborn as sns\n",
    "import os\n",
    "import networkx as nx\n",
    "import csv\n",
    "from tqdm import tqdm\n",
    "import json\n",
    "import pandas as pd"
   ]
  },
  {
   "cell_type": "code",
   "execution_count": 2,
   "metadata": {},
   "outputs": [],
   "source": [
    "def read_snapshot(filename, it):\n",
    "    G = nx.Graph()\n",
    "    with open(filename, 'r') as runfile:\n",
    "        its = json.load(runfile)\n",
    "        edgelist = its[it]['edges']\n",
    "        opinions = its[it]['status']\n",
    "        for edge in edgelist:\n",
    "            G.add_node(int(edge[0])) #superhero in first column\n",
    "            G.add_node(int(edge[1])) #superhero in second column\n",
    "            G.add_edge(int(edge[0]), int(edge[1]), weight = 1)\n",
    "        nx.set_node_attributes(G, {int(k): v for k,v in opinions.items()}, name=\"opinion\")\n",
    "        return G\n",
    "\n",
    "def compute_ncc(graph):\n",
    "    return nx.number_connected_components(graph)\n",
    "\n",
    "def compute_avgdeg(graph):\n",
    "    degree = dict(graph.degree())\n",
    "    s = sum(degree.values())\n",
    "    return s/graph.number_of_nodes()\n",
    "    \n",
    "\n",
    "def compute_triangles(graph):\n",
    "    d = dict(nx.triangles(graph))\n",
    "    s = sum(d.values())\n",
    "    return s/graph.number_of_nodes()\n",
    "\n",
    "def compute_clustering(graph):\n",
    "    return nx.average_clustering(graph)\n",
    "\n",
    "def compute_nac(graph):\n",
    "    return nx.degree_assortativity_coefficient(graph)\n",
    "\n",
    "def compute_assortativity(graph):\n",
    "    \n",
    "    def homophily(graph, v):\n",
    "        neighbors = list(graph.neighbors(v))\n",
    "        if len(neighbors) > 0:\n",
    "            neighborsops = [graph.nodes[u]['opinion'] for u in neighbors]\n",
    "            h =  sum([(((-2/max(graph.nodes[v]['opinion'], 1-graph.nodes[v]['opinion']))*(abs(graph.nodes[v]['opinion']-op)))+1) for op in neighborsops])/len(neighborsops)\n",
    "            return h\n",
    "        else:\n",
    "            return 0\n",
    "    \n",
    "    hlist = []\n",
    "    \n",
    "    for v in list(G.nodes()):\n",
    "        hv = homophily(graph, v)\n",
    "        hlist.append(hv)\n",
    "    \n",
    "    return sum(hlist)/len(hlist)"
   ]
  },
  {
   "cell_type": "code",
   "execution_count": 3,
   "metadata": {},
   "outputs": [
    {
     "name": "stdout",
     "output_type": "stream",
     "text": [
      "/data1/users/pansanella/GitHub/AdaptiveAlgBiasOnSC/res\n"
     ]
    }
   ],
   "source": [
    "%cd res/"
   ]
  },
  {
   "cell_type": "code",
   "execution_count": 9,
   "metadata": {},
   "outputs": [
    {
     "name": "stdout",
     "output_type": "stream",
     "text": [
      " README.txt  'rewiring er0.1 metrics.csv'\n"
     ]
    }
   ],
   "source": [
    "%ls"
   ]
  },
  {
   "cell_type": "code",
   "execution_count": 4,
   "metadata": {},
   "outputs": [],
   "source": [
    "modelname = \"rewiring\""
   ]
  },
  {
   "cell_type": "code",
   "execution_count": 5,
   "metadata": {},
   "outputs": [],
   "source": [
    "mi = 1000000"
   ]
  },
  {
   "cell_type": "code",
   "execution_count": 6,
   "metadata": {},
   "outputs": [],
   "source": [
    "import os\n",
    "aggrfile = open(f\"{modelname} er0.1 metrics.csv\", \"w+\")\n",
    "header = \"model,graph,n,p,pr,eps,gam,max_it\\n\"\n",
    "aggrfile.write(header)\n",
    "aggrfile.close()\n",
    "aggrfile = open(f\"{modelname} er0.1 metrics.csv\", \"a+\")\n",
    "for graph in ['er']:\n",
    "    if graph == \"er\":\n",
    "        p = 0.1\n",
    "    else:\n",
    "        p=5\n",
    "    for pr in [0.0, 0.1, 0.2, 0.3, 0.4, 0.5, 0.6, 0.7, 0.8, 0.9, 1.0]:\n",
    "        for eps in [0.35]:\n",
    "            for gam in [0.0, 0.5, 1.0, 1.5]:\n",
    "                name = f\"{modelname} {graph}{p} pr{pr} e{eps} g{gam} mi1000000\"\n",
    "                s = f\"{modelname},{graph},100,{p},{pr},{eps},{gam},1000000\\n\"\n",
    "                aggrfile.write(s)\n",
    "aggrfile.close()\n",
    "results = pd.read_csv(f\"{modelname} er0.1 metrics.csv\")"
   ]
  },
  {
   "cell_type": "code",
   "execution_count": null,
   "metadata": {},
   "outputs": [],
   "source": []
  },
  {
   "cell_type": "code",
   "execution_count": 8,
   "metadata": {},
   "outputs": [
    {
     "name": "stderr",
     "output_type": "stream",
     "text": [
      "  0%|          | 0/30 [00:00<?, ?it/s]\n"
     ]
    },
    {
     "ename": "FileNotFoundError",
     "evalue": "[Errno 2] No such file or directory: 'rewiring er0.1 pr0.0 e0.35 g0.0 mi1000000 nr0.json'",
     "output_type": "error",
     "traceback": [
      "\u001b[0;31m---------------------------------------------------------------------------\u001b[0m",
      "\u001b[0;31mFileNotFoundError\u001b[0m                         Traceback (most recent call last)",
      "\u001b[1;32m/home/pansanella/mydata/GitHub/AdaptiveAlgBiasOnSC/snapshotAnalysisPlots.ipynb Cell 8'\u001b[0m in \u001b[0;36m<cell line: 2>\u001b[0;34m()\u001b[0m\n\u001b[1;32m     <a href='vscode-notebook-cell://ssh-remote%2Bkddsna.isti.cnr.it/home/pansanella/mydata/GitHub/AdaptiveAlgBiasOnSC/snapshotAnalysisPlots.ipynb#ch0000007vscode-remote?line=17'>18</a>\u001b[0m \u001b[39mfor\u001b[39;00m nr \u001b[39min\u001b[39;00m tqdm(\u001b[39mrange\u001b[39m(\u001b[39m30\u001b[39m)):\n\u001b[1;32m     <a href='vscode-notebook-cell://ssh-remote%2Bkddsna.isti.cnr.it/home/pansanella/mydata/GitHub/AdaptiveAlgBiasOnSC/snapshotAnalysisPlots.ipynb#ch0000007vscode-remote?line=18'>19</a>\u001b[0m     name \u001b[39m=\u001b[39m \u001b[39mf\u001b[39m\u001b[39m\"\u001b[39m\u001b[39m{\u001b[39;00mmodelname\u001b[39m}\u001b[39;00m\u001b[39m er0.1 pr\u001b[39m\u001b[39m{\u001b[39;00mpr\u001b[39m}\u001b[39;00m\u001b[39m e\u001b[39m\u001b[39m{\u001b[39;00meps\u001b[39m}\u001b[39;00m\u001b[39m g\u001b[39m\u001b[39m{\u001b[39;00mgam\u001b[39m}\u001b[39;00m\u001b[39m mi\u001b[39m\u001b[39m{\u001b[39;00mmi\u001b[39m}\u001b[39;00m\u001b[39m\"\u001b[39m    \n\u001b[0;32m---> <a href='vscode-notebook-cell://ssh-remote%2Bkddsna.isti.cnr.it/home/pansanella/mydata/GitHub/AdaptiveAlgBiasOnSC/snapshotAnalysisPlots.ipynb#ch0000007vscode-remote?line=19'>20</a>\u001b[0m     \u001b[39mwith\u001b[39;00m \u001b[39mopen\u001b[39;49m(\u001b[39mf\u001b[39;49m\u001b[39m\"\u001b[39;49m\u001b[39m{\u001b[39;49;00mname\u001b[39m}\u001b[39;49;00m\u001b[39m nr\u001b[39;49m\u001b[39m{\u001b[39;49;00mnr\u001b[39m}\u001b[39;49;00m\u001b[39m.json\u001b[39;49m\u001b[39m\"\u001b[39;49m, \u001b[39m'\u001b[39;49m\u001b[39mr\u001b[39;49m\u001b[39m'\u001b[39;49m) \u001b[39mas\u001b[39;00m runfile:\n\u001b[1;32m     <a href='vscode-notebook-cell://ssh-remote%2Bkddsna.isti.cnr.it/home/pansanella/mydata/GitHub/AdaptiveAlgBiasOnSC/snapshotAnalysisPlots.ipynb#ch0000007vscode-remote?line=20'>21</a>\u001b[0m         data \u001b[39m=\u001b[39m json\u001b[39m.\u001b[39mload(runfile)\n\u001b[1;32m     <a href='vscode-notebook-cell://ssh-remote%2Bkddsna.isti.cnr.it/home/pansanella/mydata/GitHub/AdaptiveAlgBiasOnSC/snapshotAnalysisPlots.ipynb#ch0000007vscode-remote?line=21'>22</a>\u001b[0m         \u001b[39mfor\u001b[39;00m it \u001b[39min\u001b[39;00m [\u001b[39m1\u001b[39m]:\n",
      "\u001b[0;31mFileNotFoundError\u001b[0m: [Errno 2] No such file or directory: 'rewiring er0.1 pr0.0 e0.35 g0.0 mi1000000 nr0.json'"
     ]
    }
   ],
   "source": [
    "modelname = \"rewiring\"\n",
    "for index, row in (results.iterrows()):\n",
    "    eps = row['eps']\n",
    "    gam = row['gam']\n",
    "    pr = row['pr']\n",
    "    graph = row['graph']\n",
    "    p = row['p']\n",
    "    mi = row['max_it']\n",
    "    ncc = []\n",
    "    avgd = []\n",
    "    tri = []\n",
    "    cl = []\n",
    "    ass = []\n",
    "    avgh = []\n",
    "    for nr in tqdm(range(30)):\n",
    "        name = f\"{modelname} er0.1 pr{pr} e{eps} g{gam} mi{mi}\"    \n",
    "        with open(f\"{name} nr{nr}.json\", 'r') as runfile:\n",
    "            data = json.load(runfile)\n",
    "            it = 1\n",
    "            G = read_snapshot(f\"{name} nr{nr}.json\", it)\n",
    "            ncc.append(compute_ncc(G))\n",
    "            avgd.append(compute_avgdeg(G))\n",
    "            tri.append(compute_triangles(G))\n",
    "            cl.append(compute_clustering(G))\n",
    "            ass.append(compute_nac(G))\n",
    "            avgh.append(compute_assortativity(G))    \n",
    "    row[\"avgncc_initial\"] = sum(ncc)/len(ncc)\n",
    "    row[\"avgavgd_initial\"] = sum(avgd)/len(avgd)\n",
    "    row[\"avgtri_initial\"] = sum(tri)/len(tri)\n",
    "    row['avgcl_initial'] = sum(cl)/len(cl)\n",
    "    row['avgass_initial'] = sum(ass)/len(ass)\n",
    "    row['avghom_initial'] = sum(avgh)/len(avgh)\n",
    "    break\n",
    "\n",
    "results\n",
    "    # ncc = []\n",
    "    # avgd = []\n",
    "    # tri = []\n",
    "    # cl = []\n",
    "    # ass = []\n",
    "    # avgh = []\n",
    "    # for nr in tqdm(range(30)):\n",
    "    #     name = f\"{modelname} er0.1 pr{pr} e{eps} g{gam} mi{mi}\"    \n",
    "    #     with open(f\"{name} nr{nr}.json\", 'r') as runfile:\n",
    "    #         data = json.load(runfile)\n",
    "    #         for it in [len(data)-1]:\n",
    "    #             G = read_snapshot(f\"{name} nr{nr}.json\", it)\n",
    "    #             ncc.append(compute_ncc(G))\n",
    "    #             avgd.append(compute_avgdeg(G))\n",
    "    #             tri.append(compute_triangles(G))\n",
    "    #             cl.append(compute_clustering(G))\n",
    "    #             ass.append(compute_nac(G))\n",
    "    #             avgh.append(compute_assortativity(G))\n",
    "    # row[\"avgncc_final\"] = sum(ncc)/len(ncc)\n",
    "    # row[\"avgavgd_final\"] = sum(avgd)/len(avgd)\n",
    "    # row[\"avgtri_final\"] = sum(tri)/len(tri)\n",
    "    # row['avgcl_final'] = sum(cl)/len(cl)\n",
    "    # row['avgass_final'] = sum(ass)/len(ass)\n",
    "    # row['avghom_final'] = sum(avgh)/len(avgh)    "
   ]
  },
  {
   "cell_type": "code",
   "execution_count": null,
   "metadata": {
    "scrolled": true
   },
   "outputs": [],
   "source": [
    "results.to_csv(\"tmp.csv\")"
   ]
  },
  {
   "cell_type": "code",
   "execution_count": null,
   "metadata": {},
   "outputs": [],
   "source": [
    "df = pd.read_csv(\"tmp.csv\")"
   ]
  },
  {
   "cell_type": "code",
   "execution_count": null,
   "metadata": {},
   "outputs": [],
   "source": [
    "df"
   ]
  },
  {
   "cell_type": "code",
   "execution_count": null,
   "metadata": {},
   "outputs": [],
   "source": []
  }
 ],
 "metadata": {
  "kernelspec": {
   "display_name": "Python 3.9.12 ('base')",
   "language": "python",
   "name": "python3"
  },
  "language_info": {
   "codemirror_mode": {
    "name": "ipython",
    "version": 3
   },
   "file_extension": ".py",
   "mimetype": "text/x-python",
   "name": "python",
   "nbconvert_exporter": "python",
   "pygments_lexer": "ipython3",
   "version": "3.9.12"
  },
  "vscode": {
   "interpreter": {
    "hash": "895ffc56b6eff623d772c414b46f8111564696d5bee6faf9cdbf1181314a9666"
   }
  }
 },
 "nbformat": 4,
 "nbformat_minor": 2
}
